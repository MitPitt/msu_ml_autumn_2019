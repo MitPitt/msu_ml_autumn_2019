{
 "cells": [
  {
   "cell_type": "markdown",
   "metadata": {},
   "source": [
    "### Алгоритмы интеллектуальной обработки больших объемов данных\n",
    "## Домашнее задание №3 - Дерево решений\n"
   ]
  },
  {
   "cell_type": "markdown",
   "metadata": {},
   "source": [
    "**Общая информация**\n",
    "\n",
    "**Срок сдачи:** 25 ноября 2019, 15:00   \n",
    "**Штраф за опоздание:** -2 балла после 15:00 25 ноября, -4 балла после 15:00 2 декабря, -6 баллов после 15:00 9 декабря  -8 баллов после 15:00 16 декабря.\n",
    "\n",
    "При отправлении ДЗ указывайте фамилию в названии файла Присылать ДЗ необходимо в виде ссылки на свой github репозиторий на почту ml1.sphere@mail.ru с указанием темы в следующем формате:\n",
    "[ML0919, Задание 3] Фамилия Имя. \n",
    "\n",
    "\n",
    "Используйте данный Ipython Notebook при оформлении домашнего задания."
   ]
  },
  {
   "cell_type": "markdown",
   "metadata": {},
   "source": [
    "###### Задание 1 (3 балла)\n",
    "Разберитесь в коде MyDecisionTreeClassifier, который уже частично реализован. Допишите код там, где написано \"Ваш код\". Ваша реализация дерева должна работать по точности не хуже DecisionTreeClassifier из sklearn. Точность проверяется на [wine](https://scikit-learn.org/stable/modules/generated/sklearn.datasets.load_wine.html) и [Speed Dating Data](https://cloud.mail.ru/public/8nHV/p6J7wY1y1)\n",
    "\n",
    "###### Задание 2 (3 балла)\n",
    "Добиться скорости работы на fit не медленнее чем в 10 раз sklearn на данных wine и Speed Dating Data. \n",
    "Для этого используем numpy.\n",
    "\n",
    "###### Задание 3 (2 балла)\n",
    "Добавьте функционал, который определяет значения feature importance. Выведите 10 главных фичей под пунктом Задание 4 (уже написано ниже) для MyDecisionTreeClassifier и DecisionTreeClassifier так, чтобы сразу были видны выводы и по MyDecisionTreeClassifier, и по DecisionTreeClassifier. Используем данные Speed Dating Data.\n",
    "\n",
    "###### Задание 4 (2 балла)\n",
    "С помощью GridSearchCV или RandomSearchCV подберите наиболее оптимальные параметры для случайного леса (Выберете 2-3 параметра). Используем данные Speed Dating Data. Задание реализуйте под пунктом Задание 5 (уже написано ниже)\n",
    "\n",
    "\n",
    "**Штрафные баллы:**\n",
    "\n",
    "1. Невыполнение PEP8 -1 балл\n",
    "2. Отсутствие фамилии в имени скрипта (скрипт должен называться по аналогии со stroykova_hw3.ipynb) -1 балл\n",
    "3. Все строчки должны быть выполнены. Нужно, чтобы output команды можно было увидеть уже в git'е. В противном случае -1 балл\n",
    "4. При оформлении ДЗ нужно пользоваться данным файлом в качестве шаблона. Не нужно удалять и видоизменять написанный код и текст. В противном случае -1 балл"
   ]
  },
  {
   "cell_type": "code",
   "execution_count": 1,
   "metadata": {},
   "outputs": [],
   "source": [
    "import matplotlib.pyplot as plt\n",
    "import numpy as np\n",
    "import pandas as pd\n",
    "\n",
    "from sklearn.datasets import load_wine\n",
    "from sklearn.ensemble import RandomForestClassifier\n",
    "from sklearn.metrics import accuracy_score, f1_score\n",
    "from sklearn.model_selection import KFold, train_test_split, GridSearchCV, RandomizedSearchCV\n",
    "from sklearn.tree import DecisionTreeClassifier\n",
    "\n",
    "%matplotlib inline\n",
    "%load_ext pycodestyle_magic"
   ]
  },
  {
   "cell_type": "code",
   "execution_count": 2,
   "metadata": {},
   "outputs": [],
   "source": [
    "#%%pycodestyle\n",
    "\n",
    "\n",
    "class MyDecisionTreeClassifier:\n",
    "    NON_LEAF_TYPE = 0\n",
    "    LEAF_TYPE = 1\n",
    "\n",
    "    def __init__(self, min_samples_split=2, max_depth=None, sufficient_share=1.0, criterion='gini', max_features=None):\n",
    "        self.tree = dict()\n",
    "        self.min_samples_split = min_samples_split\n",
    "        self.max_depth = max_depth\n",
    "        self.sufficient_share = sufficient_share\n",
    "        self.num_class = -1\n",
    "        self.feature_importances_ = None\n",
    "        self.imp = None\n",
    "        if criterion == 'gini':\n",
    "            self.G_function = self.__gini\n",
    "            self.imp = self.__gini_imp\n",
    "        elif criterion == 'entropy':\n",
    "            self.G_function = self.__entropy\n",
    "            self.imp = self.__entropy_imp\n",
    "        elif criterion == 'misclass':\n",
    "            self.G_function = self.__misclass\n",
    "            self.imp = self.__misclass_imp\n",
    "        else:\n",
    "            print('invalid criterion name')\n",
    "            raise\n",
    "\n",
    "        if max_features == 'sqrt':\n",
    "            self.get_feature_ids = self.__get_feature_ids_sqrt\n",
    "        elif max_features == 'log2':\n",
    "            self.get_feature_ids = self.__get_feature_ids_log2\n",
    "        elif max_features == None:\n",
    "            self.get_feature_ids = self.__get_feature_ids_N\n",
    "        else:\n",
    "            print('invalid max_features name')\n",
    "            raise\n",
    "\n",
    "    def __gini(self, l_c, l_s, r_c, r_s):\n",
    "        return (l_s*(1-np.sum((l_c/l_s)**2, axis=1)).reshape(-1, 1) +\n",
    "                r_s*(1-np.sum((r_c/r_s)**2, axis=1)).reshape(-1, 1)) / (l_s+r_s)\n",
    "    \n",
    "    def __entropy(self, l_c, l_s, r_c, r_s):\n",
    "        return (l_s * (-np.sum((l_c/l_s) * np.log(l_c/l_s), axis=1)).reshape(-1, 1) +\n",
    "                r_s * (-np.sum((r_c/r_s) * np.log(r_c/r_s), axis=1)).reshape(-1, 1)) / (l_s+r_s)\n",
    "\n",
    "    def __misclass(self, l_c, l_s, r_c, r_s):\n",
    "        return (l_s * (1 - np.max(l_c/l_s, axis=1)).reshape(-1, 1) +\n",
    "                r_s * (1 - np.max(r_c/r_s, axis=1)).reshape(-1, 1)) / (l_s+r_s)\n",
    "\n",
    "    def __get_feature_ids_sqrt(self, n_feature):\n",
    "        feature_ids = np.arange(n_feature)\n",
    "        np.random.shuffle(feature_ids)\n",
    "        return feature_ids[:np.round(np.sqrt(n_features)):]\n",
    "        \n",
    "    def __get_feature_ids_log2(self, n_feature):\n",
    "        feature_ids = np.arange(n_feature)\n",
    "        np.random.shuffle(feature_ids)\n",
    "        return feature_ids[:np.round(np.log2(n_features)):]\n",
    "\n",
    "    def __get_feature_ids_N(self, n_feature):\n",
    "        return np.arange(n_feature)\n",
    "    \n",
    "    def __sort_samples(self, x, y):\n",
    "        sorted_idx = x.argsort()\n",
    "        return x[sorted_idx], y[sorted_idx]\n",
    "\n",
    "    def __div_samples(self, x, y, feature_id, threshold):\n",
    "        left_mask = x[:, feature_id] > threshold\n",
    "        right_mask = ~left_mask\n",
    "        return x[left_mask], x[right_mask], y[left_mask], y[right_mask]\n",
    "    \n",
    "    def __gini_imp(self, y):\n",
    "        return 1 - ((np.bincount(y).astype('float') / y.size) ** 2).sum()\n",
    "    \n",
    "    def __entropy_imp(self, y):\n",
    "        bins = np.bincount(y).astype('float') / y.size\n",
    "        return -np.nansum(bins * np.log2(bins))\n",
    "    \n",
    "    def __misclass_imp(self, y):\n",
    "        return 1 - np.max(np.bincount(y).astype('float') / y.size)\n",
    "\n",
    "    def __find_threshold(self, x, y):\n",
    "        x_sort, y_sort = self.__sort_samples(x, y)\n",
    "\n",
    "        class_brd = np.where(y_sort[:-1] != y_sort[1:])[0] + 1\n",
    "\n",
    "        if len(class_brd) == 0:\n",
    "            return np.inf, None\n",
    "\n",
    "        eq_el_count = class_brd - np.append([0], class_brd[:-1])\n",
    "        one_hot_code = np.zeros((class_brd.shape[0], self.num_class))\n",
    "        one_hot_code[np.arange(class_brd.shape[0]), y_sort[class_brd-1]] = 1\n",
    "        class_increments = one_hot_code * eq_el_count.reshape(-1, 1)\n",
    "\n",
    "        l_c = np.cumsum(class_increments, axis=0)\n",
    "        r_c = np.bincount(y, minlength=self.num_class) - l_c\n",
    "        l_s = class_brd.reshape(-1, 1)\n",
    "        r_s = y_sort.shape[0] - l_s\n",
    "\n",
    "        gs = self.G_function(l_c, l_s, r_c, r_s)\n",
    "        idx = np.argmin(gs)\n",
    "\n",
    "        left_el_id = l_s[idx][0]\n",
    "        threshold = (x_sort[left_el_id -1] + x_sort[left_el_id ]) / 2.0\n",
    "        return gs[idx], threshold\n",
    "\n",
    "    def __fit_node(self, x, y, node_id, depth):\n",
    "        count = np.bincount(y)\n",
    "        if self.max_depth is not None and depth == self.max_depth or\\\n",
    "                    y.shape[0] < self.min_samples_split or\\\n",
    "                    self.sufficient_share <= np.float(np.bincount(y).max()) / y.size:\n",
    "            self.tree[node_id] = (self.LEAF_TYPE, np.argmax(count), np.array(count, dtype=np.float) / y.size)\n",
    "            return\n",
    "        indices = self.get_feature_ids(x.shape[1])\n",
    "        thresholds = np.array([self.__find_threshold(x[:, idx], y) for idx in indices])\n",
    "        min_thr = thresholds[:, 0].argmin()\n",
    "        optimal_threshold = thresholds[min_thr, 1]\n",
    "\n",
    "        x_l, x_r, y_l, y_r = self.__div_samples(x, y, indices[min_thr], optimal_threshold)\n",
    "        \n",
    "        if x_l.shape[0] == 0 or x_r.shape[0] == 0:\n",
    "            self.tree[node_id] = (self.LEAF_TYPE, count.argmax(), count.astype('float')/y.size)\n",
    "            return\n",
    "\n",
    "        self.tree[node_id] = (self.NON_LEAF_TYPE, indices[min_thr], optimal_threshold)\n",
    "\n",
    "        self.feature_importances_[min_thr] += y.size*self.imp(y) - y_l.size*self.imp(y_l) - y_r.size*self.imp(y_r)\n",
    "\n",
    "        self.__fit_node(x_l, y_l, 2*node_id + 1, depth+1)\n",
    "        self.__fit_node(x_r, y_r, 2*node_id + 2, depth+1)\n",
    "    \n",
    "    def fit(self, x, y):\n",
    "        self.feature_importances_ = np.zeros(x.shape[1])\n",
    "        self.num_class = np.unique(y).size\n",
    "        self.__fit_node(x, y, 0, 0) \n",
    "        self.feature_importances_ /= self.feature_importances_.sum()\n",
    "\n",
    "    def __predict_class(self, x, node_id):\n",
    "        node = self.tree[node_id]\n",
    "        if node[0] == self.__class__.NON_LEAF_TYPE:\n",
    "            _, feature_id, threshold = node\n",
    "            if x[feature_id] > threshold:\n",
    "                return self.__predict_class(x, 2 * node_id + 1)\n",
    "            else:\n",
    "                return self.__predict_class(x, 2 * node_id + 2)\n",
    "        else:\n",
    "            return node[1]\n",
    "\n",
    "    def __predict_probs(self, x, node_id):\n",
    "        node = self.tree[node_id]\n",
    "        if node[0] == self.__class__.NON_LEAF_TYPE:\n",
    "            _, feature_id, threshold = node\n",
    "            if x[feature_id] > threshold:\n",
    "                return self.__predict_probs(x, 2 * node_id + 1)\n",
    "            else:\n",
    "                return self.__predict_probs(x, 2 * node_id + 2)\n",
    "        else:\n",
    "            return node[2]\n",
    "        \n",
    "    def predict(self, X):\n",
    "        return np.array([self.__predict_class(x, 0) for x in X])\n",
    "    \n",
    "    def predict_probs(self, X):\n",
    "        return np.array([self.__predict_probs(x, 0) for x in X])\n",
    "\n",
    "    def fit_predict(self, x_train, y_train, predicted_x):\n",
    "        self.fit(x_train, y_train)\n",
    "        return self.predict(predicted_x)"
   ]
  },
  {
   "cell_type": "code",
   "execution_count": 3,
   "metadata": {},
   "outputs": [],
   "source": [
    "my_clf = MyDecisionTreeClassifier(min_samples_split=2)\n",
    "clf = DecisionTreeClassifier(min_samples_split=2)"
   ]
  },
  {
   "cell_type": "code",
   "execution_count": 4,
   "metadata": {},
   "outputs": [],
   "source": [
    "wine = load_wine()\n",
    "X_train, X_test, y_train, y_test = train_test_split(wine.data, wine.target, test_size=0.1, stratify=wine.target)"
   ]
  },
  {
   "cell_type": "markdown",
   "metadata": {},
   "source": [
    "## Проверка скорости работы на wine"
   ]
  },
  {
   "cell_type": "code",
   "execution_count": 5,
   "metadata": {
    "scrolled": true
   },
   "outputs": [
    {
     "name": "stdout",
     "output_type": "stream",
     "text": [
      "Wall time: 22 ms\n"
     ]
    },
    {
     "data": {
      "text/plain": [
       "DecisionTreeClassifier(class_weight=None, criterion='gini', max_depth=None,\n",
       "                       max_features=None, max_leaf_nodes=None,\n",
       "                       min_impurity_decrease=0.0, min_impurity_split=None,\n",
       "                       min_samples_leaf=1, min_samples_split=2,\n",
       "                       min_weight_fraction_leaf=0.0, presort=False,\n",
       "                       random_state=None, splitter='best')"
      ]
     },
     "execution_count": 5,
     "metadata": {},
     "output_type": "execute_result"
    }
   ],
   "source": [
    "%time clf.fit(X_train, y_train)"
   ]
  },
  {
   "cell_type": "code",
   "execution_count": 6,
   "metadata": {},
   "outputs": [
    {
     "name": "stdout",
     "output_type": "stream",
     "text": [
      "Wall time: 81 ms\n"
     ]
    }
   ],
   "source": [
    "%time my_clf.fit(X_train, y_train)"
   ]
  },
  {
   "cell_type": "markdown",
   "metadata": {},
   "source": [
    "## Проверка качества работы на wine"
   ]
  },
  {
   "cell_type": "code",
   "execution_count": 7,
   "metadata": {},
   "outputs": [
    {
     "data": {
      "text/plain": [
       "0.8363636363636364"
      ]
     },
     "execution_count": 7,
     "metadata": {},
     "output_type": "execute_result"
    }
   ],
   "source": [
    "f1_score(y_pred=clf.predict(X_test), y_true=y_test, average='macro')"
   ]
  },
  {
   "cell_type": "code",
   "execution_count": 8,
   "metadata": {},
   "outputs": [
    {
     "data": {
      "text/plain": [
       "0.8307692307692308"
      ]
     },
     "execution_count": 8,
     "metadata": {},
     "output_type": "execute_result"
    }
   ],
   "source": [
    "f1_score(y_pred=my_clf.predict(X_test), y_true=y_test, average='macro')"
   ]
  },
  {
   "cell_type": "markdown",
   "metadata": {},
   "source": [
    "## Подготовка данных Speed Dating Data "
   ]
  },
  {
   "cell_type": "code",
   "execution_count": 9,
   "metadata": {},
   "outputs": [
    {
     "name": "stdout",
     "output_type": "stream",
     "text": [
      "   iid   id  gender  idg  condtn  wave  round  position  positin1  order  ...  \\\n",
      "0    1  1.0       0    1       1     1     10         7       NaN      4  ...   \n",
      "1    1  1.0       0    1       1     1     10         7       NaN      3  ...   \n",
      "2    1  1.0       0    1       1     1     10         7       NaN     10  ...   \n",
      "3    1  1.0       0    1       1     1     10         7       NaN      5  ...   \n",
      "4    1  1.0       0    1       1     1     10         7       NaN      7  ...   \n",
      "\n",
      "   attr3_3  sinc3_3  intel3_3  fun3_3  amb3_3  attr5_3  sinc5_3  intel5_3  \\\n",
      "0      5.0      7.0       7.0     7.0     7.0      NaN      NaN       NaN   \n",
      "1      5.0      7.0       7.0     7.0     7.0      NaN      NaN       NaN   \n",
      "2      5.0      7.0       7.0     7.0     7.0      NaN      NaN       NaN   \n",
      "3      5.0      7.0       7.0     7.0     7.0      NaN      NaN       NaN   \n",
      "4      5.0      7.0       7.0     7.0     7.0      NaN      NaN       NaN   \n",
      "\n",
      "   fun5_3  amb5_3  \n",
      "0     NaN     NaN  \n",
      "1     NaN     NaN  \n",
      "2     NaN     NaN  \n",
      "3     NaN     NaN  \n",
      "4     NaN     NaN  \n",
      "\n",
      "[5 rows x 195 columns]\n"
     ]
    },
    {
     "data": {
      "text/plain": [
       "(array([[ 1.4e-01,  0.0e+00,  2.7e+01, ...,  8.0e+00,  8.0e+00,  7.0e+00],\n",
       "        [ 5.4e-01,  0.0e+00,  2.2e+01, ...,  8.0e+00,  8.0e+00,  7.0e+00],\n",
       "        [ 1.6e-01,  1.0e+00,  2.2e+01, ...,  8.0e+00,  8.0e+00,  7.0e+00],\n",
       "        ...,\n",
       "        [-2.0e-01,  0.0e+00,  3.0e+01, ...,  9.0e+00,  9.0e+00,  7.0e+00],\n",
       "        [-3.2e-01,  0.0e+00,  2.7e+01, ...,  9.0e+00,  9.0e+00,  7.0e+00],\n",
       "        [ 1.0e-02,  0.0e+00,  2.5e+01, ...,  9.0e+00,  9.0e+00,  7.0e+00]]),\n",
       " array([0, 0, 1, ..., 0, 0, 0], dtype=int64))"
      ]
     },
     "execution_count": 9,
     "metadata": {},
     "output_type": "execute_result"
    }
   ],
   "source": [
    "import pandas as pd\n",
    "df = pd.read_csv('Speed Dating Data.csv', encoding='cp1251')\n",
    "\n",
    "print(df.head())\n",
    "\n",
    "df = df.iloc[:, :97]\n",
    "\n",
    "droplist = ['id', \n",
    "            'idg', 'condtn', 'round', 'position', 'positin1',\n",
    "            'order', 'partner', 'age_o', 'race_o', 'pf_o_att',\n",
    "            'pf_o_sin', 'pf_o_int', 'pf_o_fun', 'pf_o_amb', \n",
    "            'pf_o_sha', 'dec_o', 'attr_o', 'sinc_o', 'intel_o', \n",
    "            'fun_o', 'amb_o', 'shar_o', 'like_o', 'prob_o', \n",
    "            'met_o', 'field', 'undergra', 'from', 'zipcode', \n",
    "            'career', 'sports', 'tvsports', 'exercise', 'dining', \n",
    "            'museums', 'art', 'hiking', 'gaming', 'clubbing', \n",
    "            'reading', 'tv', 'theater', 'movies', 'concerts',\n",
    "            'music', 'shopping', 'yoga', 'expnum', 'wave']\n",
    "\n",
    "df = df.drop(droplist, axis=1)\n",
    "\n",
    "\n",
    "dropnalist = ['age', 'imprelig', 'imprace', 'date']\n",
    "df.dropna(subset=dropnalist)\n",
    "\n",
    "pd.get_dummies(df, columns=['field_cd'], prefix='field_cd', prefix_sep='=')\n",
    "\n",
    "df.loc[:, 'mn_sat'] = df.loc[:, 'mn_sat'].str.replace(',', '').astype(np.float)\n",
    "df.loc[:, 'tuition'] = df.loc[:, 'tuition'].str.replace(',', '').astype(np.float)\n",
    "df.loc[:, 'income'] = df.loc[:, 'income'].str.replace(',', '').astype(np.float)\n",
    "\n",
    "\n",
    "buf = ['field_cd', 'mn_sat', 'tuition', 'income', 'career_c']\n",
    "df.loc[:, buf] = df.loc[:, buf].fillna(0)\n",
    "\n",
    "\n",
    "\n",
    "df.loc[:, 'temp_totalsum'] = df.loc[:, ['attr1_1', 'sinc1_1', 'intel1_1',\n",
    "                                        'fun1_1', 'amb1_1', 'shar1_1']].sum(axis=1)\n",
    "\n",
    "df.loc[:, ['attr1_1', 'sinc1_1',\n",
    "           'intel1_1', 'fun1_1',\n",
    "           'amb1_1', 'shar1_1']] = (\n",
    "    df.loc[:, ['attr1_1', 'sinc1_1',\n",
    "                'intel1_1', 'fun1_1',\n",
    "                'amb1_1', 'shar1_1']].T / df.loc[:, 'temp_totalsum'].T).T * 100\n",
    "\n",
    "df.loc[:, 'temp_totalsum'] = df.loc[:, ['attr2_1', 'sinc2_1',\n",
    "                                        'intel2_1', 'fun2_1',\n",
    "                                        'amb2_1', 'shar2_1']].sum(axis=1)\n",
    "\n",
    "df.loc[:, ['attr2_1', 'sinc2_1',\n",
    "           'intel2_1', 'fun2_1',\n",
    "           'amb2_1', 'shar2_1']] = (\n",
    "    df.loc[:, ['attr2_1', 'sinc2_1', 'intel2_1', 'fun2_1', 'amb2_1', 'shar2_1']].T / df.loc[:, 'temp_totalsum'].T).T * 100\n",
    "\n",
    "df = df.drop(['temp_totalsum'], axis=1)\n",
    "\n",
    "\n",
    "for i in [4, 5]:\n",
    "    feat = ['attr{}_1'.format(i), 'sinc{}_1'.format(i),\n",
    "            'intel{}_1'.format(i), 'fun{}_1'.format(i),\n",
    "            'amb{}_1'.format(i), 'shar{}_1'.format(i)]\n",
    "\n",
    "    if i != 4:\n",
    "        feat.remove('shar{}_1'.format(i))\n",
    "\n",
    "    df = df.drop(feat, axis=1)\n",
    "\n",
    "\n",
    "df_male = df.query('gender == 1').drop_duplicates(subset=['iid', 'pid']\n",
    "                                                 ).drop(['gender'], axis=1).dropna()\n",
    "df_female = df.query('gender == 0').drop_duplicates(subset=['iid']\n",
    "                                                   ).drop(['gender', 'match', 'int_corr', 'samerace'], axis=1).dropna()\n",
    "\n",
    "df_female.columns = df_female.columns + '_f'\n",
    "df_female = df_female.drop(['pid_f'], axis=1)\n",
    "df_pair = df_male.join(df_female.set_index('iid_f'), on='pid', how='inner')\n",
    "df_pair = df_pair.drop(['iid', 'pid'], axis=1)\n",
    "\n",
    "X = df_pair.iloc[:, 1:].values\n",
    "y = df_pair.iloc[:, 0].values\n",
    "X_train, X_test, y_train, y_test = train_test_split(X, y, test_size=0.1)\n",
    "X, y"
   ]
  },
  {
   "cell_type": "markdown",
   "metadata": {},
   "source": [
    "## Проверка скорости работы на Speed Dating Data "
   ]
  },
  {
   "cell_type": "code",
   "execution_count": 10,
   "metadata": {},
   "outputs": [
    {
     "name": "stdout",
     "output_type": "stream",
     "text": [
      "Wall time: 500 ms\n"
     ]
    },
    {
     "data": {
      "text/plain": [
       "DecisionTreeClassifier(class_weight=None, criterion='gini', max_depth=None,\n",
       "                       max_features=None, max_leaf_nodes=None,\n",
       "                       min_impurity_decrease=0.0, min_impurity_split=None,\n",
       "                       min_samples_leaf=1, min_samples_split=2,\n",
       "                       min_weight_fraction_leaf=0.0, presort=False,\n",
       "                       random_state=None, splitter='best')"
      ]
     },
     "execution_count": 10,
     "metadata": {},
     "output_type": "execute_result"
    }
   ],
   "source": [
    "%time clf.fit(X_train, y_train)"
   ]
  },
  {
   "cell_type": "code",
   "execution_count": 11,
   "metadata": {},
   "outputs": [
    {
     "name": "stdout",
     "output_type": "stream",
     "text": [
      "Wall time: 2.56 s\n"
     ]
    }
   ],
   "source": [
    "%time my_clf.fit(X_train, y_train)"
   ]
  },
  {
   "cell_type": "markdown",
   "metadata": {},
   "source": [
    "## Проверка качества работы на Speed Dating Data"
   ]
  },
  {
   "cell_type": "code",
   "execution_count": 12,
   "metadata": {},
   "outputs": [
    {
     "data": {
      "text/plain": [
       "0.5135548165606604"
      ]
     },
     "execution_count": 12,
     "metadata": {},
     "output_type": "execute_result"
    }
   ],
   "source": [
    "f1_score(y_pred=clf.predict(X_test), y_true=y_test, average='macro')"
   ]
  },
  {
   "cell_type": "code",
   "execution_count": 13,
   "metadata": {},
   "outputs": [
    {
     "data": {
      "text/plain": [
       "0.45725915875169604"
      ]
     },
     "execution_count": 13,
     "metadata": {},
     "output_type": "execute_result"
    }
   ],
   "source": [
    "f1_score(y_pred=my_clf.predict(X_test), y_true=y_test, average='macro')"
   ]
  },
  {
   "cell_type": "markdown",
   "metadata": {},
   "source": [
    "## Задание 3"
   ]
  },
  {
   "cell_type": "code",
   "execution_count": 14,
   "metadata": {},
   "outputs": [],
   "source": [
    "idx = np.argsort(clf.feature_importances_)[::-1][:10]\n",
    "clf_imp = df_pair.columns[1:][idx]\n",
    "my_idx = np.argsort(my_clf.feature_importances_)[::-1][:10]\n",
    "my_clf_imp = df_pair.columns[1:][my_idx]\n",
    "\n",
    "importances = pd.DataFrame(columns=['DecisionTreeClassifier', 'clfImportance',\n",
    "                                   'MyDecisionTreeClassifier', 'my_clfImportance'])\n",
    "importances['MyDecisionTreeClassifier'] = my_clf_imp\n",
    "importances['DecisionTreeClassifier'] = clf_imp\n",
    "importances['clfImportance'] = clf.feature_importances_[idx]\n",
    "importances['my_clfImportance'] = my_clf.feature_importances_[my_idx]"
   ]
  },
  {
   "cell_type": "markdown",
   "metadata": {},
   "source": [
    "## Задание 4"
   ]
  },
  {
   "cell_type": "code",
   "execution_count": 15,
   "metadata": {},
   "outputs": [
    {
     "data": {
      "text/html": [
       "<div>\n",
       "<style scoped>\n",
       "    .dataframe tbody tr th:only-of-type {\n",
       "        vertical-align: middle;\n",
       "    }\n",
       "\n",
       "    .dataframe tbody tr th {\n",
       "        vertical-align: top;\n",
       "    }\n",
       "\n",
       "    .dataframe thead th {\n",
       "        text-align: right;\n",
       "    }\n",
       "</style>\n",
       "<table border=\"1\" class=\"dataframe\">\n",
       "  <thead>\n",
       "    <tr style=\"text-align: right;\">\n",
       "      <th></th>\n",
       "      <th>DecisionTreeClassifier</th>\n",
       "      <th>clfImportance</th>\n",
       "      <th>MyDecisionTreeClassifier</th>\n",
       "      <th>my_clfImportance</th>\n",
       "    </tr>\n",
       "  </thead>\n",
       "  <tbody>\n",
       "    <tr>\n",
       "      <th>0</th>\n",
       "      <td>int_corr</td>\n",
       "      <td>0.076462</td>\n",
       "      <td>int_corr</td>\n",
       "      <td>0.092607</td>\n",
       "    </tr>\n",
       "    <tr>\n",
       "      <th>1</th>\n",
       "      <td>sinc1_1</td>\n",
       "      <td>0.031170</td>\n",
       "      <td>date</td>\n",
       "      <td>0.082310</td>\n",
       "    </tr>\n",
       "    <tr>\n",
       "      <th>2</th>\n",
       "      <td>amb1_1</td>\n",
       "      <td>0.025885</td>\n",
       "      <td>amb1_1_f</td>\n",
       "      <td>0.071761</td>\n",
       "    </tr>\n",
       "    <tr>\n",
       "      <th>3</th>\n",
       "      <td>intel2_1_f</td>\n",
       "      <td>0.025299</td>\n",
       "      <td>attr2_1</td>\n",
       "      <td>0.069681</td>\n",
       "    </tr>\n",
       "    <tr>\n",
       "      <th>4</th>\n",
       "      <td>sinc1_1_f</td>\n",
       "      <td>0.025098</td>\n",
       "      <td>fun3_1</td>\n",
       "      <td>0.061780</td>\n",
       "    </tr>\n",
       "    <tr>\n",
       "      <th>5</th>\n",
       "      <td>sinc2_1_f</td>\n",
       "      <td>0.024221</td>\n",
       "      <td>samerace</td>\n",
       "      <td>0.059123</td>\n",
       "    </tr>\n",
       "    <tr>\n",
       "      <th>6</th>\n",
       "      <td>age_f</td>\n",
       "      <td>0.023978</td>\n",
       "      <td>career_c</td>\n",
       "      <td>0.054102</td>\n",
       "    </tr>\n",
       "    <tr>\n",
       "      <th>7</th>\n",
       "      <td>attr1_1</td>\n",
       "      <td>0.023955</td>\n",
       "      <td>age</td>\n",
       "      <td>0.052412</td>\n",
       "    </tr>\n",
       "    <tr>\n",
       "      <th>8</th>\n",
       "      <td>attr3_1_f</td>\n",
       "      <td>0.023356</td>\n",
       "      <td>income_f</td>\n",
       "      <td>0.049963</td>\n",
       "    </tr>\n",
       "    <tr>\n",
       "      <th>9</th>\n",
       "      <td>sinc3_1</td>\n",
       "      <td>0.022698</td>\n",
       "      <td>imprelig_f</td>\n",
       "      <td>0.049879</td>\n",
       "    </tr>\n",
       "  </tbody>\n",
       "</table>\n",
       "</div>"
      ],
      "text/plain": [
       "  DecisionTreeClassifier  clfImportance MyDecisionTreeClassifier  \\\n",
       "0               int_corr       0.076462                 int_corr   \n",
       "1                sinc1_1       0.031170                     date   \n",
       "2                 amb1_1       0.025885                 amb1_1_f   \n",
       "3             intel2_1_f       0.025299                  attr2_1   \n",
       "4              sinc1_1_f       0.025098                   fun3_1   \n",
       "5              sinc2_1_f       0.024221                 samerace   \n",
       "6                  age_f       0.023978                 career_c   \n",
       "7                attr1_1       0.023955                      age   \n",
       "8              attr3_1_f       0.023356                 income_f   \n",
       "9                sinc3_1       0.022698               imprelig_f   \n",
       "\n",
       "   my_clfImportance  \n",
       "0          0.092607  \n",
       "1          0.082310  \n",
       "2          0.071761  \n",
       "3          0.069681  \n",
       "4          0.061780  \n",
       "5          0.059123  \n",
       "6          0.054102  \n",
       "7          0.052412  \n",
       "8          0.049963  \n",
       "9          0.049879  "
      ]
     },
     "execution_count": 15,
     "metadata": {},
     "output_type": "execute_result"
    }
   ],
   "source": [
    "importances"
   ]
  },
  {
   "cell_type": "markdown",
   "metadata": {},
   "source": [
    "## Задание 5"
   ]
  },
  {
   "cell_type": "code",
   "execution_count": 16,
   "metadata": {},
   "outputs": [
    {
     "data": {
      "text/plain": [
       "{'n_estimators': 31,\n",
       " 'min_samples_leaf': 1,\n",
       " 'max_depth': 13,\n",
       " 'criterion': 'gini'}"
      ]
     },
     "execution_count": 16,
     "metadata": {},
     "output_type": "execute_result"
    }
   ],
   "source": [
    "params = {\n",
    "    'max_depth': range(1, 15),\n",
    "    'min_samples_leaf': range(1, 20),\n",
    "    'criterion': ['gini', 'entropy'],\n",
    "    'n_estimators': range(1, 100, 10)\n",
    "}\n",
    "forest = RandomForestClassifier()\n",
    "optimal_clf = RandomizedSearchCV(forest, param_distributions=params, cv=5)\n",
    "optimal_clf.fit(X_train, y_train)\n",
    "optimal_clf.best_params_"
   ]
  },
  {
   "cell_type": "code",
   "execution_count": 17,
   "metadata": {},
   "outputs": [
    {
     "data": {
      "text/plain": [
       "0.533911925425908"
      ]
     },
     "execution_count": 17,
     "metadata": {},
     "output_type": "execute_result"
    }
   ],
   "source": [
    "f1_score(y_pred=optimal_clf.best_estimator_.predict(X_test), y_true=y_test, average='macro')"
   ]
  }
 ],
 "metadata": {
  "kernelspec": {
   "display_name": "Python 3",
   "language": "python",
   "name": "python3"
  },
  "language_info": {
   "codemirror_mode": {
    "name": "ipython",
    "version": 3
   },
   "file_extension": ".py",
   "mimetype": "text/x-python",
   "name": "python",
   "nbconvert_exporter": "python",
   "pygments_lexer": "ipython3",
   "version": "3.7.3"
  }
 },
 "nbformat": 4,
 "nbformat_minor": 2
}
